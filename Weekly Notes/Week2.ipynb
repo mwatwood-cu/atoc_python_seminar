{
 "cells": [
  {
   "cell_type": "markdown",
   "source": [
    "# Week 2 Notes"
   ],
   "metadata": {}
  },
  {
   "cell_type": "markdown",
   "source": [
    "## Packages I use in Python"
   ],
   "metadata": {}
  },
  {
   "cell_type": "markdown",
   "source": [
    "- [Numpy](https://numpy.org/doc/stable/)\n",
    "- [Scipy](https://docs.scipy.org/doc/scipy/reference/)\n",
    "- [Pandas](https://pandas.pydata.org/pandas-docs/stable/)\n",
    "- [Matplotlib](https://matplotlib.org/stable/contents.html)\n",
    "- [Cartopy](https://scitools.org.uk/cartopy/docs/latest/)\n",
    "- [Sci-kit learn](https://scikit-learn.org/stable/)\n",
    "- [pyTorch](https://pytorch.org/tutorials/)\n",
    "- [Xarray](http://xarray.pydata.org/en/stable/tutorials-and-videos.html)\n",
    "- Netcdf4 - functionality is built into Pandas and Xarray\n",
    "- [wrf-python](https://wrf-python.readthedocs.io/en/latest/)\n",
    "- [beautifulsoup](https://www.crummy.com/software/BeautifulSoup/bs4/doc/)\n",
    "- [dask](https://docs.dask.org/en/latest/)\n",
    "- [seaborn](https://seaborn.pydata.org/tutorial.html)"
   ],
   "metadata": {}
  },
  {
   "cell_type": "markdown",
   "source": [
    "## Matt's Package Opinions"
   ],
   "metadata": {}
  },
  {
   "cell_type": "markdown",
   "source": [
    "# Most Useful for General data processing. \n",
    "## If one doesn't have the functionality you're looking for the other one should!\n",
    "\n",
    "    - Pandas\n",
    "    \n",
    "    - Xarray\n",
    "\n",
    "# Easiest Plotting\n",
    "\n",
    "    - Matplotlib has a huge user base and google searches are usually pretty helpful\n",
    "\n",
    "    - Cartopy has its quirks but is very useful in our field\n",
    "\n",
    "# Most beautiful plotting\n",
    "\n",
    "    - Seaborn has a bit more versitility in my opinion to make graphics just how you want them\n",
    "\n",
    "# Most Useful for mathematics, matrix calculation, differential equations etc.\n",
    "\n",
    "    - Numpy\n",
    "\n",
    "    - Scipy\n",
    "\n",
    "# Easiest to use machine-learning\n",
    "\n",
    "    - Sci-kit Learn even has a text book introducing it's variety of uses\n",
    "\n",
    "# Parallel programming with a twist towards machine learning\n",
    "\n",
    "    - Dask\n",
    "\n",
    "Beautiful soup mentioned above is web scraping tool, so if you want to automate data downloads, information grabs, or other tasks of getting something from the web programmatically\n",
    "\n",
    "Finally wrf-python I know very little about, so no comment"
   ],
   "metadata": {}
  },
  {
   "cell_type": "markdown",
   "source": [],
   "metadata": {}
  }
 ],
 "metadata": {
  "kernelspec": {
   "display_name": "Python 3 (ipykernel)",
   "language": "python",
   "name": "python3"
  },
  "language_info": {
   "codemirror_mode": {
    "name": "ipython",
    "version": 3
   },
   "file_extension": ".py",
   "mimetype": "text/x-python",
   "name": "python",
   "nbconvert_exporter": "python",
   "pygments_lexer": "ipython3",
   "version": "3.9.6"
  }
 },
 "nbformat": 4,
 "nbformat_minor": 5
}