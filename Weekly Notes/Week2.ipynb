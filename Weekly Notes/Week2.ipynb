{
 "cells": [
  {
   "cell_type": "markdown",
   "id": "cebc7d6e-0ebd-4c45-90f1-f8ced3923151",
   "metadata": {},
   "source": [
    "# Week 2 Notes"
   ]
  },
  {
   "cell_type": "markdown",
   "id": "297859c6-b594-4752-a880-2246261dbe4c",
   "metadata": {},
   "source": [
    "## Packages I use in Python"
   ]
  },
  {
   "cell_type": "markdown",
   "id": "a149fe4a-5d6d-4fdb-b9fd-05c5360f79e4",
   "metadata": {},
   "source": []
  },
  {
   "cell_type": "markdown",
   "id": "95f29970-7ce7-4e6a-89cd-b5d7fb50eb5d",
   "metadata": {},
   "source": [
    "## Package Details"
   ]
  },
  {
   "cell_type": "markdown",
   "id": "9f19c944-35cb-445e-a53f-a7f63211b57e",
   "metadata": {},
   "source": []
  },
  {
   "cell_type": "markdown",
   "id": "210b8cd2-b77e-439f-bb3c-b973b01e0160",
   "metadata": {},
   "source": [
    "## Git Space for Testing"
   ]
  },
  {
   "cell_type": "markdown",
   "id": "1d73f3f6-305f-44c4-9f04-1b9098985aea",
   "metadata": {},
   "source": [
    "##Nathan Agarwal"
   ]
  },
  {
   "cell_type": "code",
   "execution_count": null,
   "id": "9053d326-fc33-41db-a40e-389806ff25ab",
   "metadata": {},
   "outputs": [],
   "source": []
  }
 ],
 "metadata": {
  "kernelspec": {
   "display_name": "Python 3",
   "language": "python",
   "name": "python3"
  },
  "language_info": {
   "codemirror_mode": {
    "name": "ipython",
    "version": 3
   },
   "file_extension": ".py",
   "mimetype": "text/x-python",
   "name": "python",
   "nbconvert_exporter": "python",
   "pygments_lexer": "ipython3",
   "version": "3.9.5"
  }
 },
 "nbformat": 4,
 "nbformat_minor": 5
}
