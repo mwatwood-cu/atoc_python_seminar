{
 "cells": [
  {
   "cell_type": "markdown",
   "id": "cebc7d6e-0ebd-4c45-90f1-f8ced3923151",
   "metadata": {},
   "source": [
    "# Week 2 Notes"
   ]
  },
  {
   "cell_type": "markdown",
   "id": "297859c6-b594-4752-a880-2246261dbe4c",
   "metadata": {},
   "source": [
    "## Packages I use in Python"
   ]
  },
  {
   "cell_type": "markdown",
   "id": "a149fe4a-5d6d-4fdb-b9fd-05c5360f79e4",
   "metadata": {},
   "source": []
  },
  {
   "cell_type": "markdown",
   "id": "95f29970-7ce7-4e6a-89cd-b5d7fb50eb5d",
   "metadata": {},
   "source": [
    "## Package Details"
   ]
  },
  {
   "cell_type": "markdown",
   "id": "9f19c944-35cb-445e-a53f-a7f63211b57e",
   "metadata": {},
   "source": []
  },
  {
   "cell_type": "markdown",
   "id": "210b8cd2-b77e-439f-bb3c-b973b01e0160",
   "metadata": {},
   "source": [
    "## Git Space for Testing"
   ]
  },
  {
   "cell_type": "markdown",
   "id": "1d73f3f6-305f-44c4-9f04-1b9098985aea",
   "metadata": {},
   "source": [
    "Mckenzie Dice ???"
   ]
  },
  {
   "cell_type": "code",
   "execution_count": null,
   "id": "9053d326-fc33-41db-a40e-389806ff25ab",
   "metadata": {},
   "outputs": [],
   "source": []
  },
  {
<<<<<<< HEAD
   "cell_type": "markdown",
   "id": "a2cb0aa9-346d-480c-be43-b362e340a643",
   "metadata": {},
   "source": [
    "# My Name is MIKELL\n",
    "## I like dogs"
   ]
  },
  {
   "cell_type": "code",
   "execution_count": 2,
   "id": "b10db899-e66b-479a-af6e-6cc7337f0f0b",
   "metadata": {},
   "outputs": [
    {
     "name": "stdout",
     "output_type": "stream",
     "text": [
      "['cool', 'pretty', 'fierce', 'loyal']\n"
     ]
    }
   ],
   "source": [
    "## mikell's code\n",
    "\n",
    "dog_stuff = [\"cool\", \"pretty\", \"fierce\", \"loyal\"]\n",
    "\n",
    "print(dog_stuff)"
   ]
=======
   "cell_type": "code",
   "execution_count": null,
   "id": "d1ea2605-bbc8-452d-803c-6bb32db0b78d",
   "metadata": {},
   "outputs": [],
   "source": []
>>>>>>> 86f69d2cabe3cf568b05d2e7ce6a86fba502c08d
  }
 ],
 "metadata": {
  "kernelspec": {
   "display_name": "Python 3 (ipykernel)",
   "language": "python",
   "name": "python3"
  },
  "language_info": {
   "codemirror_mode": {
    "name": "ipython",
    "version": 3
   },
   "file_extension": ".py",
   "mimetype": "text/x-python",
   "name": "python",
   "nbconvert_exporter": "python",
   "pygments_lexer": "ipython3",
   "version": "3.8.11"
  }
 },
 "nbformat": 4,
 "nbformat_minor": 5
}
