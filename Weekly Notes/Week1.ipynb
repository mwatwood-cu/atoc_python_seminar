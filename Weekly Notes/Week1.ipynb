{
 "cells": [
  {
   "cell_type": "markdown",
   "id": "cebc7d6e-0ebd-4c45-90f1-f8ced3923151",
   "metadata": {},
   "source": [
    "# Week 1 Notes"
   ]
  },
  {
   "cell_type": "markdown",
   "id": "297859c6-b594-4752-a880-2246261dbe4c",
   "metadata": {},
   "source": [
    "## What are you looking for out of the seminar?"
   ]
  },
  {
   "cell_type": "markdown",
   "id": "a149fe4a-5d6d-4fdb-b9fd-05c5360f79e4",
   "metadata": {},
   "source": [
    "- Code Backup (git)\n",
    "- Code Backup and Research/Scientific Packages\n",
    "- Teamwork of Coding \n",
    "- Visualization\n",
    "- Simplify how code is written\n",
    "- What is possible (coding exposure)\n",
    "    - Parallel computing?\n",
    "- Super computing\n",
    "    - accessing / using"
   ]
  },
  {
   "cell_type": "markdown",
   "id": "95f29970-7ce7-4e6a-89cd-b5d7fb50eb5d",
   "metadata": {},
   "source": [
    "## What types of coding happen in research?"
   ]
  },
  {
   "cell_type": "markdown",
   "id": "9f19c944-35cb-445e-a53f-a7f63211b57e",
   "metadata": {},
   "source": [
    "- Solving Differential Equations\n",
    "- Data Analysis\n",
    "- Data Visualization\n",
    "- Data Processing and Acquasition - storage\n",
    "- Numerical Simulations\n",
    "- Automations / Scripting\n",
    "- Uncertainty Analysis - Parameter Estimation\n",
    "- Neural Nets (ML) \n",
    "- Using Other people's code\n",
    "- Data management"
   ]
  },
  {
   "cell_type": "markdown",
   "id": "210b8cd2-b77e-439f-bb3c-b973b01e0160",
   "metadata": {},
   "source": [
    "## How do we use code in research?"
   ]
  },
  {
   "cell_type": "markdown",
   "id": "1d73f3f6-305f-44c4-9f04-1b9098985aea",
   "metadata": {},
   "source": [
    "1. Testing Ideas (Trying out on a smaller data set to make sure the method works)\n",
    "    - AB Testing\n",
    "    - Incremental Testing\n",
    "    - Modular Code Design\n",
    "2. Code that helps my research advance\n",
    "\n",
    "3. Code that I share with people!"
   ]
  },
  {
   "cell_type": "code",
   "execution_count": null,
   "id": "9053d326-fc33-41db-a40e-389806ff25ab",
   "metadata": {},
   "outputs": [],
   "source": []
  }
 ],
 "metadata": {
  "kernelspec": {
   "display_name": "Python 3",
   "language": "python",
   "name": "python3"
  },
  "language_info": {
   "codemirror_mode": {
    "name": "ipython",
    "version": 3
   },
   "file_extension": ".py",
   "mimetype": "text/x-python",
   "name": "python",
   "nbconvert_exporter": "python",
   "pygments_lexer": "ipython3",
   "version": "3.9.5"
  }
 },
 "nbformat": 4,
 "nbformat_minor": 5
}
