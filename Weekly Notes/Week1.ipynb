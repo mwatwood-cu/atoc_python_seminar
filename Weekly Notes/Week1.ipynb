{
 "cells": [
  {
   "cell_type": "markdown",
   "source": [
    "# Week 1 Notes"
   ],
   "metadata": {}
  },
  {
   "cell_type": "markdown",
   "source": [
    "## What are you looking for out of the seminar?"
   ],
   "metadata": {}
  },
  {
   "cell_type": "markdown",
   "source": [
    "- Code Backup (git)\n",
    "- Code Backup and Research/Scientific Packages\n",
    "- Teamwork of Coding \n",
    "- Visualization\n",
    "- Simplify how code is written\n",
    "- What is possible (coding exposure)\n",
    "    - Parallel computing?\n",
    "- Super computing\n",
    "    - accessing / using\n",
    "- Object oriented coding"
   ],
   "metadata": {}
  },
  {
   "cell_type": "markdown",
   "source": [
    "## What types of coding happen in research?"
   ],
   "metadata": {}
  },
  {
   "cell_type": "markdown",
   "source": [
    "- Solving Differential Equations\n",
    "- Data Analysis\n",
    "- Data Visualization\n",
    "- Data Processing and Acquasition - storage\n",
    "- Numerical Simulations\n",
    "- Automations / Scripting\n",
    "- Uncertainty Analysis - Parameter Estimation\n",
    "- Neural Nets (ML) \n",
    "- Using Other people's code\n",
    "- Data management"
   ],
   "metadata": {}
  },
  {
   "cell_type": "markdown",
   "source": [
    "## How do we use code in research?"
   ],
   "metadata": {}
  },
  {
   "cell_type": "markdown",
   "source": [
    "1. Testing Ideas (Trying out on a smaller data set to make sure the method works)\n",
    "    - AB Testing\n",
    "    - Incremental Testing\n",
    "    - Modular Code Design\n",
    "2. Code that helps my research advance\n",
    "\n",
    "3. Code that I share with people!"
   ],
   "metadata": {}
  },
  {
   "cell_type": "code",
   "execution_count": null,
   "source": [],
   "outputs": [],
   "metadata": {}
  }
 ],
 "metadata": {
  "kernelspec": {
   "display_name": "Python 3 (ipykernel)",
   "language": "python",
   "name": "python3"
  },
  "language_info": {
   "codemirror_mode": {
    "name": "ipython",
    "version": 3
   },
   "file_extension": ".py",
   "mimetype": "text/x-python",
   "name": "python",
   "nbconvert_exporter": "python",
   "pygments_lexer": "ipython3",
   "version": "3.9.6"
  }
 },
 "nbformat": 4,
 "nbformat_minor": 5
}