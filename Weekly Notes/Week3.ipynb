{
 "cells": [
  {
   "cell_type": "markdown",
   "source": [
    "# Week 3 Notes"
   ],
   "metadata": {}
  },
  {
   "cell_type": "markdown",
   "source": [
    "# Topics for Today"
   ],
   "metadata": {}
  },
  {
   "cell_type": "markdown",
   "source": [
    "- Syntax/Semantics\n",
    "\n",
    "- Documentation\n",
    "\n",
    "- What is an IDE?\n",
    "\n",
    "- A better git example working together\n",
    "    - Intro to branches"
   ],
   "metadata": {}
  },
  {
   "cell_type": "markdown",
   "source": [
    "# Notes about Upcoming Weeks\n",
    "\n",
    "- No Seminar on Oct 29th"
   ],
   "metadata": {}
  },
  {
   "cell_type": "markdown",
   "source": [
    "# Next time\n",
    "\n",
    "- Reading netcdf files and getting hands dirty in the programming!\n",
    "- Small team based project using pair programming"
   ],
   "metadata": {}
  }
 ],
 "metadata": {
  "kernelspec": {
   "display_name": "Python 3 (ipykernel)",
   "language": "python",
   "name": "python3"
  },
  "language_info": {
   "codemirror_mode": {
    "name": "ipython",
    "version": 3
   },
   "file_extension": ".py",
   "mimetype": "text/x-python",
   "name": "python",
   "nbconvert_exporter": "python",
   "pygments_lexer": "ipython3",
   "version": "3.9.6"
  }
 },
 "nbformat": 4,
 "nbformat_minor": 5
}