{
 "cells": [
  {
   "cell_type": "code",
   "execution_count": null,
   "metadata": {},
   "outputs": [],
   "source": [
    "%matplotlib inline\n",
    "import xarray as xr\n",
    "import pandas as pd\n",
    "import matplotlib.pyplot as plt\n",
    "\n",
    "# Uncomment this when the plotting tools work\n",
    "from Plotting_tools import *"
   ]
  },
  {
   "cell_type": "markdown",
   "metadata": {},
   "source": [
    "Group 1 will be working on reshaping and reorganizing some data\n",
    "\n",
    "Group 2 will be working on plotting some data that is already shaped correctly\n",
    "\n",
    "Once both groups are done we can test to see how well these two pieces work together!\n",
    "\n",
    "Helpful Links\n",
    "- [Pandas Cheatsheet](https://pandas.pydata.org/Pandas_Cheat_Sheet.pdf)\n",
    "- [Working with Datetimes](https://towardsdatascience.com/working-with-datetime-in-pandas-dataframe-663f7af6c587)"
   ]
  },
  {
   "cell_type": "code",
   "execution_count": null,
   "metadata": {},
   "outputs": [],
   "source": [
    "# First read in the timeseries data\n",
    "\n",
    "file_name = \"../Data/CERES20YearAvgGlobalCloudCover.nc\"\n",
    "global_cloud_time_series = xr.open_dataset(file_name)\n",
    "\n",
    "# Uncomment when finished\n",
    "global_clouds_by_month = create_monthly_means(global_cloud_time_series, \"cldarea_total_daynight_mon\")\n",
    "plot_means_surrounded_by_deviation(global_clouds_by_month, 'Global Cloud Cover')"
   ]
  },
  {
   "cell_type": "code",
   "execution_count": null,
   "metadata": {},
   "outputs": [],
   "source": []
  }
 ],
 "metadata": {
  "interpreter": {
   "hash": "5af413ee46ce7d676039c959caedb0fc2c6118281ff4835b905e7a6d9c96f6a3"
  },
  "kernelspec": {
   "display_name": "Python 3.9.6 64-bit ('spyder': conda)",
   "name": "python3"
  },
  "language_info": {
   "codemirror_mode": {
    "name": "ipython",
    "version": 3
   },
   "file_extension": ".py",
   "mimetype": "text/x-python",
   "name": "python",
   "nbconvert_exporter": "python",
   "pygments_lexer": "ipython3",
   "version": "3.9.6"
  },
  "orig_nbformat": 4
 },
 "nbformat": 4,
 "nbformat_minor": 2
}
